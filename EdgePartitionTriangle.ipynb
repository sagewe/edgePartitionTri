{
 "cells": [
  {
   "cell_type": "markdown",
   "metadata": {},
   "source": [
    "# New partition strategy: EdgePartitionTriangle\n",
    "\n",
    "New partition strategy with several advantage:\n",
    "1. nicer bound on vertex replication, sqrt(2 * numParts).\n",
    "2. colocate all edges between two vertices regardless of direction. \n",
    "3. same work balance compared with EdgePartition2D  \n",
    "\n",
    "### EdgePartition2D\n",
    "\n",
    "    case object EdgePartition2D extends PartitionStrategy {\n",
    "        override def getPartition(src: VertexId, dst: VertexId, numParts: PartitionID): PartitionID = {\n",
    "          val ceilSqrtNumParts: PartitionID = math.ceil(math.sqrt(numParts)).toInt\n",
    "          val mixingPrime: VertexId = 1125899906842597L\n",
    "          if (numParts == ceilSqrtNumParts * ceilSqrtNumParts) {\n",
    "            // Use old method for perfect squared to ensure we get same results\n",
    "            val col: PartitionID = (math.abs(src * mixingPrime) % ceilSqrtNumParts).toInt\n",
    "            val row: PartitionID = (math.abs(dst * mixingPrime) % ceilSqrtNumParts).toInt\n",
    "            (col * ceilSqrtNumParts + row) % numParts\n",
    "\n",
    "          } else {\n",
    "            // Otherwise use new method\n",
    "            val cols = ceilSqrtNumParts\n",
    "            val rows = (numParts + cols - 1) / cols\n",
    "            val lastColRows = numParts - rows * (cols - 1)\n",
    "            val col = (math.abs(src * mixingPrime) % numParts / rows).toInt\n",
    "            val row = (math.abs(dst * mixingPrime) % (if (col < cols - 1) rows else lastColRows)).toInt\n",
    "            col * rows + row\n",
    "\n",
    "          }\n",
    "        }\n",
    "      }\n",
    "\n",
    "### EdgePartitionTriangle\n",
    "\n",
    "    case object EdgePartitionTriangle extends PartitionStrategy {\n",
    "        override def getPartition(src: VertexId, dst: VertexId, numParts: PartitionID): PartitionID = {\n",
    "          val mixingPrime: VertexId = 1125899906842597L\n",
    "          val numRowTriParts = ((math.sqrt(1 + 8 * numParts) - 1) / 2).toInt\n",
    "          val numTriParts = numRowTriParts * (numRowTriParts + 1) / 2\n",
    "          val segmentFactor = 100\n",
    "          val numSegments = (segmentFactor * math.sqrt(4 * numParts * numTriParts)).toInt\n",
    "          val segRow = (math.abs(src * mixingPrime) % numSegments).toInt\n",
    "          val segCol = (math.abs(dst * mixingPrime) % numSegments).toInt\n",
    "          var row = segRow / (segmentFactor * numRowTriParts)\n",
    "          var col = segCol / (segmentFactor * numRowTriParts)\n",
    "          if (math.max(segRow, segCol) >= 2 * segmentFactor * numTriParts) {\n",
    "            // non triangle parts\n",
    "            row = numRowTriParts + 1\n",
    "            col = math.min(segRow, segCol) % (numParts - numTriParts)\n",
    "          }\n",
    "          else if (row == col) {\n",
    "            // diagonal parts\n",
    "            val ind = math.min(segRow % numRowTriParts, segCol % numRowTriParts)\n",
    "            col = (math.min(2 * numRowTriParts - ind - 1, ind) + row + 1) % (numRowTriParts + 1)\n",
    "          }\n",
    "          if (row > col) row * (row - 1) / 2 + col else col * (col - 1) / 2 + row\n",
    "        }\n",
    "      }\n"
   ]
  },
  {
   "cell_type": "code",
   "execution_count": 1,
   "metadata": {},
   "outputs": [
    {
     "name": "stderr",
     "output_type": "stream",
     "text": [
      "C:\\Users\\wenbinwei\\AppData\\Local\\Continuum\\anaconda3\\lib\\site-packages\\IPython\\html.py:14: ShimWarning: The `IPython.html` package has been deprecated since IPython 4.0. You should import from `notebook` instead. `IPython.html.widgets` has moved to `ipywidgets`.\n",
      "  \"`IPython.html.widgets` has moved to `ipywidgets`.\", ShimWarning)\n"
     ]
    }
   ],
   "source": [
    "from __future__ import division\n",
    "from IPython.html.widgets import interact, IntSlider\n",
    "import math\n",
    "import collections\n",
    "import random\n",
    "import matplotlib\n",
    "import matplotlib.pyplot as plt\n",
    "from matplotlib.patches import Rectangle\n",
    "from matplotlib.collections import PatchCollection\n",
    "import numpy as np\n",
    "np.seterr(all='ignore') #Ignore overflow warnings\n",
    "%matplotlib inline"
   ]
  },
  {
   "cell_type": "markdown",
   "metadata": {},
   "source": [
    "We use `numpy.int64` to match Java's overflow behavior."
   ]
  },
  {
   "cell_type": "code",
   "execution_count": 2,
   "metadata": {
    "collapsed": true
   },
   "outputs": [],
   "source": [
    "def edgePartition2D(src, dst, numParts):\n",
    "    src = np.int64(src)\n",
    "    dst = np.int64(dst)\n",
    "    ceilSqrtNumParts = np.int64(math.ceil(math.sqrt(numParts)))\n",
    "    mixingPrime = np.int64(1125899906842597)\n",
    "    cols = ceilSqrtNumParts\n",
    "    rows = (numParts + cols - 1) // cols\n",
    "    lastColRows = numParts - rows * (cols - 1)\n",
    "    col = int(abs(src * mixingPrime) % numParts // rows)\n",
    "    row = int(abs(dst * mixingPrime) % (rows if (col < cols - 1) else lastColRows))\n",
    "    return col * rows + row"
   ]
  },
  {
   "cell_type": "code",
   "execution_count": 3,
   "metadata": {},
   "outputs": [],
   "source": [
    "def edgePartitionTriangle(src, dst, numParts):\n",
    "    src = np.int64(src)\n",
    "    dst = np.int64(dst)\n",
    "    mixingPrime = np.int64(1125899906842597)\n",
    "    numRowTriParts = int((math.sqrt(1 + 8 * numParts) - 1) / 2)\n",
    "    numTriParts = numRowTriParts * (numRowTriParts + 1) // 2\n",
    "    segmentFactor = 10\n",
    "    numSegments = int(segmentFactor * math.sqrt(4 * numParts * numTriParts))\n",
    "    segRow = int(abs(src * mixingPrime) % numSegments)\n",
    "    segCol = int(abs(dst * mixingPrime) % numSegments)\n",
    "    row = int(segRow / (segmentFactor * numRowTriParts))\n",
    "    col = int(segCol / (segmentFactor * numRowTriParts))\n",
    "    if max(segRow, segCol) >= 2 * segmentFactor * numTriParts:\n",
    "        row = numRowTriParts + 1\n",
    "        col = min(segRow, segCol) % (numParts - numTriParts)\n",
    "    elif row == col:\n",
    "        ind = min(segRow % numRowTriParts, segCol % numRowTriParts)\n",
    "        col = (min(2 * numRowTriParts - ind - 1, ind) + row + 1) % (numRowTriParts + 1)\n",
    "    return row * (row - 1) // 2 + col if row > col else col * (col - 1) // 2 + row"
   ]
  },
  {
   "cell_type": "code",
   "execution_count": 4,
   "metadata": {
    "collapsed": true
   },
   "outputs": [],
   "source": [
    "def rand_vid(l=-2**63, u=2**63 - 1):\n",
    "    return random.randint(l, u)"
   ]
  },
  {
   "cell_type": "code",
   "execution_count": 5,
   "metadata": {},
   "outputs": [],
   "source": [
    "def get_edges_counts(numParts, sample_size = 10000):\n",
    "    cnt_2d = collections.Counter()\n",
    "    cnt_tri = collections.Counter()\n",
    "    for x in range(1, sample_size):\n",
    "        src = rand_vid()\n",
    "        dst = rand_vid()\n",
    "        cnt_2d[edgePartition2D(src, dst, numParts)] += 1\n",
    "        cnt_tri[edgePartitionTriangle(src, dst, numParts)] += 1\n",
    "    return (cnt_2d, cnt_tri)"
   ]
  },
  {
   "cell_type": "code",
   "execution_count": 6,
   "metadata": {},
   "outputs": [],
   "source": [
    "def viz_balance(numParts): \n",
    "    fig = plt.figure()\n",
    "    fig.set_size_inches(10, 4)\n",
    "    cnt_2d, cnt_tri = get_edges_counts(numParts)\n",
    "\n",
    "    def add_sub(sub_ind, data, title, sharey=None):\n",
    "        ax = fig.add_subplot(sub_ind, sharey=sharey)\n",
    "        ax.bar(*zip(*data.items()), align=\"edge\", width=1)\n",
    "        ax.set_xlim(0,numParts)\n",
    "        ax.set_title('Balance - ' + title)\n",
    "        ax.set_xlabel('partition number')\n",
    "        ax.set_ylabel('number of edges')\n",
    "        return ax\n",
    "    ax = add_sub(121, cnt_tri, 'EdgePartitionTriangle')\n",
    "    add_sub(122, cnt_2d, 'EdgePartition2D', ax)\n",
    "    plt.show()"
   ]
  },
  {
   "cell_type": "code",
   "execution_count": 7,
   "metadata": {
    "collapsed": true
   },
   "outputs": [],
   "source": [
    "def viz_vertex_rep(numParts, edges):\n",
    "    v2p_2d = dict()\n",
    "    v2p_tri = dict()\n",
    "    for src, dst in edges:\n",
    "        pid_2d = edgePartition2D(src, dst, numParts)\n",
    "        pid_tri = edgePartitionTriangle(src, dst, numParts)\n",
    "        v2p_2d.setdefault(src, set()).add(pid_2d)\n",
    "        v2p_2d.setdefault(dst, set()).add(pid_2d)\n",
    "        v2p_tri.setdefault(src, set()).add(pid_tri)\n",
    "        v2p_tri.setdefault(dst, set()).add(pid_tri)\n",
    "        \n",
    "    reps_count_2d = collections.Counter()\n",
    "    reps_count_tri = collections.Counter()\n",
    "    \n",
    "    for v in v2p_2d.values():\n",
    "        reps_count_2d[len(v)] += 1\n",
    "    for v in v2p_tri.values():\n",
    "        reps_count_tri[len(v)] += 1\n",
    "    \n",
    "    fig = plt.figure()\n",
    "    fig.set_size_inches(10, 4)\n",
    "    def add_sub(sub_ind, data, title, sharey=None):\n",
    "        ax = fig.add_subplot(sub_ind, sharey=sharey)\n",
    "        ax.bar(*zip(*data.items()), align=\"edge\", width=1)\n",
    "        ax.set_xlim(0,max(data.keys()) + 1)\n",
    "        ax.set_title('replications - ' + title)\n",
    "        ax.set_xlabel('num of reps')\n",
    "        ax.set_ylabel('count')\n",
    "        return ax\n",
    "    ax = add_sub(121, reps_count_tri, \"EdgePartitionTriangle\")\n",
    "    add_sub(122, reps_count_2d, \"EdgePartition2D\", ax)\n",
    "    plt.show()\n",
    "    "
   ]
  },
  {
   "cell_type": "code",
   "execution_count": 8,
   "metadata": {},
   "outputs": [],
   "source": [
    "def viz_reps_ave(edges, max_num_parts):\n",
    "    def get_sum(numParts):\n",
    "        v2p = dict()\n",
    "        for src, dst in edges:\n",
    "            pid_2d = edgePartition2D(src, dst, numParts)\n",
    "            pid_tri = edgePartitionTriangle(src, dst, numParts)\n",
    "            v2p.setdefault(src, [set(), set()])[0].add(pid_2d)\n",
    "            v2p.setdefault(dst, [set(), set()])[0].add(pid_2d)\n",
    "            v2p[src][1].add(pid_tri)\n",
    "            v2p[dst][1].add(pid_tri)\n",
    "        N = len(v2p)\n",
    "        sum_2d = sum(len(v[0]) for v in v2p.values())\n",
    "        sum_tri = sum(len(v[1]) for v in v2p.values())\n",
    "        return sum_2d / N, sum_tri / N\n",
    "    x = list(range(1, max_num_parts + 1))\n",
    "    ys = [get_sum(i) for i in x]\n",
    "    y_2d = [v[0] for v in ys]\n",
    "    y_tri = [v[1] for v in ys]\n",
    "    plt.plot(x, y_2d, 'r', x, y_tri, 'b')\n",
    "    plt.xlabel(\"numParts\")\n",
    "    plt.ylabel(\"average reps\")\n",
    "    plt.legend([\"2d\", \"tri\"])\n",
    "    plt.show()"
   ]
  },
  {
   "cell_type": "markdown",
   "metadata": {},
   "source": [
    "EdgePartitionTriangle and EdgePartition2D has same work balance. "
   ]
  },
  {
   "cell_type": "code",
   "execution_count": 9,
   "metadata": {},
   "outputs": [
    {
     "data": {
      "application/vnd.jupyter.widget-view+json": {
       "model_id": "4760664e285a499f8998cc90f9a616a0",
       "version_major": 2,
       "version_minor": 0
      },
      "text/plain": [
       "A Jupyter Widget"
      ]
     },
     "metadata": {},
     "output_type": "display_data"
    },
    {
     "data": {
      "text/plain": [
       "<function __main__.viz_balance>"
      ]
     },
     "execution_count": 9,
     "metadata": {},
     "output_type": "execute_result"
    }
   ],
   "source": [
    "interact(viz_balance, numParts=IntSlider(min=1, max=50, value=10))"
   ]
  },
  {
   "cell_type": "markdown",
   "metadata": {},
   "source": [
    "graph generated by `rand_vid(-2 ** 63, 2 ** 63 -1)` is too sparse to show the decresing in vertex replications. We have narrowed the range of random integers."
   ]
  },
  {
   "cell_type": "code",
   "execution_count": 10,
   "metadata": {
    "collapsed": true
   },
   "outputs": [],
   "source": [
    "edges = [(rand_vid(-1000, 1000), rand_vid(-1000, 1000)) for _ in range(10000)]"
   ]
  },
  {
   "cell_type": "code",
   "execution_count": 11,
   "metadata": {},
   "outputs": [
    {
     "data": {
      "application/vnd.jupyter.widget-view+json": {
       "model_id": "e34242d253b841eead3c9e3f02191220",
       "version_major": 2,
       "version_minor": 0
      },
      "text/plain": [
       "A Jupyter Widget"
      ]
     },
     "metadata": {},
     "output_type": "display_data"
    },
    {
     "data": {
      "text/plain": [
       "<function __main__.interact_viz_vertex_rep>"
      ]
     },
     "execution_count": 11,
     "metadata": {},
     "output_type": "execute_result"
    }
   ],
   "source": [
    "def interact_viz_vertex_rep(numParts):\n",
    "    return viz_vertex_rep(numParts, edges)\n",
    "interact(interact_viz_vertex_rep, numParts=IntSlider(min=1, max=50, value=10))"
   ]
  },
  {
   "cell_type": "code",
   "execution_count": 12,
   "metadata": {},
   "outputs": [
    {
     "data": {
      "image/png": "[encoded data removed]",
      "text/plain": [
       "<matplotlib.figure.Figure at 0x20ca652b748>"
      ]
     },
     "metadata": {},
     "output_type": "display_data"
    }
   ],
   "source": [
    "viz_reps_ave(edges, 50)"
   ]
  }
 ],
 "metadata": {
  "kernelspec": {
   "display_name": "Python 3",
   "language": "python",
   "name": "python3"
  },
  "language_info": {
   "codemirror_mode": {
    "name": "ipython",
    "version": 3
   },
   "file_extension": ".py",
   "mimetype": "text/x-python",
   "name": "python",
   "nbconvert_exporter": "python",
   "pygments_lexer": "ipython3",
   "version": "3.6.3"
  }
 },
 "nbformat": 4,
 "nbformat_minor": 1
}
